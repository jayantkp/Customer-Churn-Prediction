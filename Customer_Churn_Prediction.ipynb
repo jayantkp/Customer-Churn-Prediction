{
  "nbformat": 4,
  "nbformat_minor": 0,
  "metadata": {
    "colab": {
      "name": "Customer Churn Prediction.ipynb",
      "provenance": []
    },
    "kernelspec": {
      "name": "python3",
      "display_name": "Python 3"
    },
    "language_info": {
      "name": "python"
    },
    "accelerator": "GPU"
  },
  "cells": [
    {
      "cell_type": "code",
      "metadata": {
        "id": "R-6LGL5QXIWN"
      },
      "source": [
        "#!pip install tensorflow"
      ],
      "execution_count": 1,
      "outputs": []
    },
    {
      "cell_type": "code",
      "metadata": {
        "colab": {
          "base_uri": "https://localhost:8080/"
        },
        "id": "0c3iylLfW8U9",
        "outputId": "706ee3d2-5d38-4b11-9acd-fbd793a7dec2"
      },
      "source": [
        "import tensorflow as tf\n",
        "print(tf.__version__)"
      ],
      "execution_count": 2,
      "outputs": [
        {
          "output_type": "stream",
          "name": "stdout",
          "text": [
            "2.7.0\n"
          ]
        }
      ]
    },
    {
      "cell_type": "code",
      "metadata": {
        "id": "KhoErnErVN4e"
      },
      "source": [
        "import numpy as np\n",
        "import pandas as pd\n",
        "import matplotlib.pyplot as plt\n",
        "%matplotlib inline"
      ],
      "execution_count": 3,
      "outputs": []
    },
    {
      "cell_type": "code",
      "metadata": {
        "id": "p_XfSix9Xz8H"
      },
      "source": [
        "df = pd.read_csv('/content/drive/MyDrive/Customer Churn Prediction/WA_Fn-UseC_-Telco-Customer-Churn.csv')"
      ],
      "execution_count": 4,
      "outputs": []
    },
    {
      "cell_type": "code",
      "metadata": {
        "colab": {
          "base_uri": "https://localhost:8080/",
          "height": 313
        },
        "id": "nEuK0Ok3YD35",
        "outputId": "804d4f00-d18b-4fa6-a20e-0ff4b2164717"
      },
      "source": [
        "df.head()"
      ],
      "execution_count": 5,
      "outputs": [
        {
          "output_type": "execute_result",
          "data": {
            "text/html": [
              "<div>\n",
              "<style scoped>\n",
              "    .dataframe tbody tr th:only-of-type {\n",
              "        vertical-align: middle;\n",
              "    }\n",
              "\n",
              "    .dataframe tbody tr th {\n",
              "        vertical-align: top;\n",
              "    }\n",
              "\n",
              "    .dataframe thead th {\n",
              "        text-align: right;\n",
              "    }\n",
              "</style>\n",
              "<table border=\"1\" class=\"dataframe\">\n",
              "  <thead>\n",
              "    <tr style=\"text-align: right;\">\n",
              "      <th></th>\n",
              "      <th>customerID</th>\n",
              "      <th>gender</th>\n",
              "      <th>SeniorCitizen</th>\n",
              "      <th>Partner</th>\n",
              "      <th>Dependents</th>\n",
              "      <th>tenure</th>\n",
              "      <th>PhoneService</th>\n",
              "      <th>MultipleLines</th>\n",
              "      <th>InternetService</th>\n",
              "      <th>OnlineSecurity</th>\n",
              "      <th>OnlineBackup</th>\n",
              "      <th>DeviceProtection</th>\n",
              "      <th>TechSupport</th>\n",
              "      <th>StreamingTV</th>\n",
              "      <th>StreamingMovies</th>\n",
              "      <th>Contract</th>\n",
              "      <th>PaperlessBilling</th>\n",
              "      <th>PaymentMethod</th>\n",
              "      <th>MonthlyCharges</th>\n",
              "      <th>TotalCharges</th>\n",
              "      <th>Churn</th>\n",
              "    </tr>\n",
              "  </thead>\n",
              "  <tbody>\n",
              "    <tr>\n",
              "      <th>0</th>\n",
              "      <td>7590-VHVEG</td>\n",
              "      <td>Female</td>\n",
              "      <td>0</td>\n",
              "      <td>Yes</td>\n",
              "      <td>No</td>\n",
              "      <td>1</td>\n",
              "      <td>No</td>\n",
              "      <td>No phone service</td>\n",
              "      <td>DSL</td>\n",
              "      <td>No</td>\n",
              "      <td>Yes</td>\n",
              "      <td>No</td>\n",
              "      <td>No</td>\n",
              "      <td>No</td>\n",
              "      <td>No</td>\n",
              "      <td>Month-to-month</td>\n",
              "      <td>Yes</td>\n",
              "      <td>Electronic check</td>\n",
              "      <td>29.85</td>\n",
              "      <td>29.85</td>\n",
              "      <td>No</td>\n",
              "    </tr>\n",
              "    <tr>\n",
              "      <th>1</th>\n",
              "      <td>5575-GNVDE</td>\n",
              "      <td>Male</td>\n",
              "      <td>0</td>\n",
              "      <td>No</td>\n",
              "      <td>No</td>\n",
              "      <td>34</td>\n",
              "      <td>Yes</td>\n",
              "      <td>No</td>\n",
              "      <td>DSL</td>\n",
              "      <td>Yes</td>\n",
              "      <td>No</td>\n",
              "      <td>Yes</td>\n",
              "      <td>No</td>\n",
              "      <td>No</td>\n",
              "      <td>No</td>\n",
              "      <td>One year</td>\n",
              "      <td>No</td>\n",
              "      <td>Mailed check</td>\n",
              "      <td>56.95</td>\n",
              "      <td>1889.5</td>\n",
              "      <td>No</td>\n",
              "    </tr>\n",
              "    <tr>\n",
              "      <th>2</th>\n",
              "      <td>3668-QPYBK</td>\n",
              "      <td>Male</td>\n",
              "      <td>0</td>\n",
              "      <td>No</td>\n",
              "      <td>No</td>\n",
              "      <td>2</td>\n",
              "      <td>Yes</td>\n",
              "      <td>No</td>\n",
              "      <td>DSL</td>\n",
              "      <td>Yes</td>\n",
              "      <td>Yes</td>\n",
              "      <td>No</td>\n",
              "      <td>No</td>\n",
              "      <td>No</td>\n",
              "      <td>No</td>\n",
              "      <td>Month-to-month</td>\n",
              "      <td>Yes</td>\n",
              "      <td>Mailed check</td>\n",
              "      <td>53.85</td>\n",
              "      <td>108.15</td>\n",
              "      <td>Yes</td>\n",
              "    </tr>\n",
              "    <tr>\n",
              "      <th>3</th>\n",
              "      <td>7795-CFOCW</td>\n",
              "      <td>Male</td>\n",
              "      <td>0</td>\n",
              "      <td>No</td>\n",
              "      <td>No</td>\n",
              "      <td>45</td>\n",
              "      <td>No</td>\n",
              "      <td>No phone service</td>\n",
              "      <td>DSL</td>\n",
              "      <td>Yes</td>\n",
              "      <td>No</td>\n",
              "      <td>Yes</td>\n",
              "      <td>Yes</td>\n",
              "      <td>No</td>\n",
              "      <td>No</td>\n",
              "      <td>One year</td>\n",
              "      <td>No</td>\n",
              "      <td>Bank transfer (automatic)</td>\n",
              "      <td>42.30</td>\n",
              "      <td>1840.75</td>\n",
              "      <td>No</td>\n",
              "    </tr>\n",
              "    <tr>\n",
              "      <th>4</th>\n",
              "      <td>9237-HQITU</td>\n",
              "      <td>Female</td>\n",
              "      <td>0</td>\n",
              "      <td>No</td>\n",
              "      <td>No</td>\n",
              "      <td>2</td>\n",
              "      <td>Yes</td>\n",
              "      <td>No</td>\n",
              "      <td>Fiber optic</td>\n",
              "      <td>No</td>\n",
              "      <td>No</td>\n",
              "      <td>No</td>\n",
              "      <td>No</td>\n",
              "      <td>No</td>\n",
              "      <td>No</td>\n",
              "      <td>Month-to-month</td>\n",
              "      <td>Yes</td>\n",
              "      <td>Electronic check</td>\n",
              "      <td>70.70</td>\n",
              "      <td>151.65</td>\n",
              "      <td>Yes</td>\n",
              "    </tr>\n",
              "  </tbody>\n",
              "</table>\n",
              "</div>"
            ],
            "text/plain": [
              "   customerID  gender  SeniorCitizen  ... MonthlyCharges TotalCharges  Churn\n",
              "0  7590-VHVEG  Female              0  ...          29.85        29.85     No\n",
              "1  5575-GNVDE    Male              0  ...          56.95       1889.5     No\n",
              "2  3668-QPYBK    Male              0  ...          53.85       108.15    Yes\n",
              "3  7795-CFOCW    Male              0  ...          42.30      1840.75     No\n",
              "4  9237-HQITU  Female              0  ...          70.70       151.65    Yes\n",
              "\n",
              "[5 rows x 21 columns]"
            ]
          },
          "metadata": {},
          "execution_count": 5
        }
      ]
    },
    {
      "cell_type": "markdown",
      "metadata": {
        "id": "kDzHJQgdg5_V"
      },
      "source": [
        "Churn = yes : customer leaving company <br>\n",
        "Churn = no: customer not leaving company"
      ]
    },
    {
      "cell_type": "markdown",
      "metadata": {
        "id": "o4yXGvAZkNpE"
      },
      "source": [
        "DATA CLEANING"
      ]
    },
    {
      "cell_type": "code",
      "metadata": {
        "id": "AmvtSv2yYFfW"
      },
      "source": [
        "# removing the ID column\n",
        "df.drop('customerID', axis = 1, inplace = True)"
      ],
      "execution_count": 6,
      "outputs": []
    },
    {
      "cell_type": "code",
      "metadata": {
        "colab": {
          "base_uri": "https://localhost:8080/"
        },
        "id": "w6ZkXv_KZsIE",
        "outputId": "ea322aa7-9d83-4fd5-d895-482eb0e068bf"
      },
      "source": [
        "df.dtypes"
      ],
      "execution_count": 7,
      "outputs": [
        {
          "output_type": "execute_result",
          "data": {
            "text/plain": [
              "gender               object\n",
              "SeniorCitizen         int64\n",
              "Partner              object\n",
              "Dependents           object\n",
              "tenure                int64\n",
              "PhoneService         object\n",
              "MultipleLines        object\n",
              "InternetService      object\n",
              "OnlineSecurity       object\n",
              "OnlineBackup         object\n",
              "DeviceProtection     object\n",
              "TechSupport          object\n",
              "StreamingTV          object\n",
              "StreamingMovies      object\n",
              "Contract             object\n",
              "PaperlessBilling     object\n",
              "PaymentMethod        object\n",
              "MonthlyCharges      float64\n",
              "TotalCharges         object\n",
              "Churn                object\n",
              "dtype: object"
            ]
          },
          "metadata": {},
          "execution_count": 7
        }
      ]
    },
    {
      "cell_type": "code",
      "metadata": {
        "colab": {
          "base_uri": "https://localhost:8080/"
        },
        "id": "H7tYsn5nZx34",
        "outputId": "7ca41a65-4df1-4a5b-d7d2-e240facde56c"
      },
      "source": [
        "df.TotalCharges.values"
      ],
      "execution_count": 8,
      "outputs": [
        {
          "output_type": "execute_result",
          "data": {
            "text/plain": [
              "array(['29.85', '1889.5', '108.15', ..., '346.45', '306.6', '6844.5'],\n",
              "      dtype=object)"
            ]
          },
          "metadata": {},
          "execution_count": 8
        }
      ]
    },
    {
      "cell_type": "code",
      "metadata": {
        "colab": {
          "base_uri": "https://localhost:8080/"
        },
        "id": "BWSIwm4ZZ4qg",
        "outputId": "bd2e9ecb-8b1d-486b-a5ce-64106906cb76"
      },
      "source": [
        "df.MonthlyCharges.values"
      ],
      "execution_count": 9,
      "outputs": [
        {
          "output_type": "execute_result",
          "data": {
            "text/plain": [
              "array([ 29.85,  56.95,  53.85, ...,  29.6 ,  74.4 , 105.65])"
            ]
          },
          "metadata": {},
          "execution_count": 9
        }
      ]
    },
    {
      "cell_type": "code",
      "metadata": {
        "id": "vy0Z4Md7Z9zZ"
      },
      "source": [
        "# converting total charges to numbers\n",
        "#pd.to_numeric(df.TotalCharges) #some values may be null"
      ],
      "execution_count": 10,
      "outputs": []
    },
    {
      "cell_type": "code",
      "metadata": {
        "id": "3giCSfRMaNoC"
      },
      "source": [
        "#pd.to_numeric(df.TotalCharges,errors = 'coerce') #ignoring errors\n",
        "#pd.to_numeric(df.TotalCharges,errors = 'coerce').isnull()  #displaying null rows"
      ],
      "execution_count": 11,
      "outputs": []
    },
    {
      "cell_type": "code",
      "metadata": {
        "colab": {
          "base_uri": "https://localhost:8080/",
          "height": 570
        },
        "id": "_Yg-Kho-ajpO",
        "outputId": "811fe39a-7698-4bb8-bbb0-eff8fe3d1fbe"
      },
      "source": [
        "# printing those rows where the value is null\n",
        "df[pd.to_numeric(df.TotalCharges,errors = 'coerce').isnull()]"
      ],
      "execution_count": 12,
      "outputs": [
        {
          "output_type": "execute_result",
          "data": {
            "text/html": [
              "<div>\n",
              "<style scoped>\n",
              "    .dataframe tbody tr th:only-of-type {\n",
              "        vertical-align: middle;\n",
              "    }\n",
              "\n",
              "    .dataframe tbody tr th {\n",
              "        vertical-align: top;\n",
              "    }\n",
              "\n",
              "    .dataframe thead th {\n",
              "        text-align: right;\n",
              "    }\n",
              "</style>\n",
              "<table border=\"1\" class=\"dataframe\">\n",
              "  <thead>\n",
              "    <tr style=\"text-align: right;\">\n",
              "      <th></th>\n",
              "      <th>gender</th>\n",
              "      <th>SeniorCitizen</th>\n",
              "      <th>Partner</th>\n",
              "      <th>Dependents</th>\n",
              "      <th>tenure</th>\n",
              "      <th>PhoneService</th>\n",
              "      <th>MultipleLines</th>\n",
              "      <th>InternetService</th>\n",
              "      <th>OnlineSecurity</th>\n",
              "      <th>OnlineBackup</th>\n",
              "      <th>DeviceProtection</th>\n",
              "      <th>TechSupport</th>\n",
              "      <th>StreamingTV</th>\n",
              "      <th>StreamingMovies</th>\n",
              "      <th>Contract</th>\n",
              "      <th>PaperlessBilling</th>\n",
              "      <th>PaymentMethod</th>\n",
              "      <th>MonthlyCharges</th>\n",
              "      <th>TotalCharges</th>\n",
              "      <th>Churn</th>\n",
              "    </tr>\n",
              "  </thead>\n",
              "  <tbody>\n",
              "    <tr>\n",
              "      <th>488</th>\n",
              "      <td>Female</td>\n",
              "      <td>0</td>\n",
              "      <td>Yes</td>\n",
              "      <td>Yes</td>\n",
              "      <td>0</td>\n",
              "      <td>No</td>\n",
              "      <td>No phone service</td>\n",
              "      <td>DSL</td>\n",
              "      <td>Yes</td>\n",
              "      <td>No</td>\n",
              "      <td>Yes</td>\n",
              "      <td>Yes</td>\n",
              "      <td>Yes</td>\n",
              "      <td>No</td>\n",
              "      <td>Two year</td>\n",
              "      <td>Yes</td>\n",
              "      <td>Bank transfer (automatic)</td>\n",
              "      <td>52.55</td>\n",
              "      <td></td>\n",
              "      <td>No</td>\n",
              "    </tr>\n",
              "    <tr>\n",
              "      <th>753</th>\n",
              "      <td>Male</td>\n",
              "      <td>0</td>\n",
              "      <td>No</td>\n",
              "      <td>Yes</td>\n",
              "      <td>0</td>\n",
              "      <td>Yes</td>\n",
              "      <td>No</td>\n",
              "      <td>No</td>\n",
              "      <td>No internet service</td>\n",
              "      <td>No internet service</td>\n",
              "      <td>No internet service</td>\n",
              "      <td>No internet service</td>\n",
              "      <td>No internet service</td>\n",
              "      <td>No internet service</td>\n",
              "      <td>Two year</td>\n",
              "      <td>No</td>\n",
              "      <td>Mailed check</td>\n",
              "      <td>20.25</td>\n",
              "      <td></td>\n",
              "      <td>No</td>\n",
              "    </tr>\n",
              "    <tr>\n",
              "      <th>936</th>\n",
              "      <td>Female</td>\n",
              "      <td>0</td>\n",
              "      <td>Yes</td>\n",
              "      <td>Yes</td>\n",
              "      <td>0</td>\n",
              "      <td>Yes</td>\n",
              "      <td>No</td>\n",
              "      <td>DSL</td>\n",
              "      <td>Yes</td>\n",
              "      <td>Yes</td>\n",
              "      <td>Yes</td>\n",
              "      <td>No</td>\n",
              "      <td>Yes</td>\n",
              "      <td>Yes</td>\n",
              "      <td>Two year</td>\n",
              "      <td>No</td>\n",
              "      <td>Mailed check</td>\n",
              "      <td>80.85</td>\n",
              "      <td></td>\n",
              "      <td>No</td>\n",
              "    </tr>\n",
              "    <tr>\n",
              "      <th>1082</th>\n",
              "      <td>Male</td>\n",
              "      <td>0</td>\n",
              "      <td>Yes</td>\n",
              "      <td>Yes</td>\n",
              "      <td>0</td>\n",
              "      <td>Yes</td>\n",
              "      <td>Yes</td>\n",
              "      <td>No</td>\n",
              "      <td>No internet service</td>\n",
              "      <td>No internet service</td>\n",
              "      <td>No internet service</td>\n",
              "      <td>No internet service</td>\n",
              "      <td>No internet service</td>\n",
              "      <td>No internet service</td>\n",
              "      <td>Two year</td>\n",
              "      <td>No</td>\n",
              "      <td>Mailed check</td>\n",
              "      <td>25.75</td>\n",
              "      <td></td>\n",
              "      <td>No</td>\n",
              "    </tr>\n",
              "    <tr>\n",
              "      <th>1340</th>\n",
              "      <td>Female</td>\n",
              "      <td>0</td>\n",
              "      <td>Yes</td>\n",
              "      <td>Yes</td>\n",
              "      <td>0</td>\n",
              "      <td>No</td>\n",
              "      <td>No phone service</td>\n",
              "      <td>DSL</td>\n",
              "      <td>Yes</td>\n",
              "      <td>Yes</td>\n",
              "      <td>Yes</td>\n",
              "      <td>Yes</td>\n",
              "      <td>Yes</td>\n",
              "      <td>No</td>\n",
              "      <td>Two year</td>\n",
              "      <td>No</td>\n",
              "      <td>Credit card (automatic)</td>\n",
              "      <td>56.05</td>\n",
              "      <td></td>\n",
              "      <td>No</td>\n",
              "    </tr>\n",
              "    <tr>\n",
              "      <th>3331</th>\n",
              "      <td>Male</td>\n",
              "      <td>0</td>\n",
              "      <td>Yes</td>\n",
              "      <td>Yes</td>\n",
              "      <td>0</td>\n",
              "      <td>Yes</td>\n",
              "      <td>No</td>\n",
              "      <td>No</td>\n",
              "      <td>No internet service</td>\n",
              "      <td>No internet service</td>\n",
              "      <td>No internet service</td>\n",
              "      <td>No internet service</td>\n",
              "      <td>No internet service</td>\n",
              "      <td>No internet service</td>\n",
              "      <td>Two year</td>\n",
              "      <td>No</td>\n",
              "      <td>Mailed check</td>\n",
              "      <td>19.85</td>\n",
              "      <td></td>\n",
              "      <td>No</td>\n",
              "    </tr>\n",
              "    <tr>\n",
              "      <th>3826</th>\n",
              "      <td>Male</td>\n",
              "      <td>0</td>\n",
              "      <td>Yes</td>\n",
              "      <td>Yes</td>\n",
              "      <td>0</td>\n",
              "      <td>Yes</td>\n",
              "      <td>Yes</td>\n",
              "      <td>No</td>\n",
              "      <td>No internet service</td>\n",
              "      <td>No internet service</td>\n",
              "      <td>No internet service</td>\n",
              "      <td>No internet service</td>\n",
              "      <td>No internet service</td>\n",
              "      <td>No internet service</td>\n",
              "      <td>Two year</td>\n",
              "      <td>No</td>\n",
              "      <td>Mailed check</td>\n",
              "      <td>25.35</td>\n",
              "      <td></td>\n",
              "      <td>No</td>\n",
              "    </tr>\n",
              "    <tr>\n",
              "      <th>4380</th>\n",
              "      <td>Female</td>\n",
              "      <td>0</td>\n",
              "      <td>Yes</td>\n",
              "      <td>Yes</td>\n",
              "      <td>0</td>\n",
              "      <td>Yes</td>\n",
              "      <td>No</td>\n",
              "      <td>No</td>\n",
              "      <td>No internet service</td>\n",
              "      <td>No internet service</td>\n",
              "      <td>No internet service</td>\n",
              "      <td>No internet service</td>\n",
              "      <td>No internet service</td>\n",
              "      <td>No internet service</td>\n",
              "      <td>Two year</td>\n",
              "      <td>No</td>\n",
              "      <td>Mailed check</td>\n",
              "      <td>20.00</td>\n",
              "      <td></td>\n",
              "      <td>No</td>\n",
              "    </tr>\n",
              "    <tr>\n",
              "      <th>5218</th>\n",
              "      <td>Male</td>\n",
              "      <td>0</td>\n",
              "      <td>Yes</td>\n",
              "      <td>Yes</td>\n",
              "      <td>0</td>\n",
              "      <td>Yes</td>\n",
              "      <td>No</td>\n",
              "      <td>No</td>\n",
              "      <td>No internet service</td>\n",
              "      <td>No internet service</td>\n",
              "      <td>No internet service</td>\n",
              "      <td>No internet service</td>\n",
              "      <td>No internet service</td>\n",
              "      <td>No internet service</td>\n",
              "      <td>One year</td>\n",
              "      <td>Yes</td>\n",
              "      <td>Mailed check</td>\n",
              "      <td>19.70</td>\n",
              "      <td></td>\n",
              "      <td>No</td>\n",
              "    </tr>\n",
              "    <tr>\n",
              "      <th>6670</th>\n",
              "      <td>Female</td>\n",
              "      <td>0</td>\n",
              "      <td>Yes</td>\n",
              "      <td>Yes</td>\n",
              "      <td>0</td>\n",
              "      <td>Yes</td>\n",
              "      <td>Yes</td>\n",
              "      <td>DSL</td>\n",
              "      <td>No</td>\n",
              "      <td>Yes</td>\n",
              "      <td>Yes</td>\n",
              "      <td>Yes</td>\n",
              "      <td>Yes</td>\n",
              "      <td>No</td>\n",
              "      <td>Two year</td>\n",
              "      <td>No</td>\n",
              "      <td>Mailed check</td>\n",
              "      <td>73.35</td>\n",
              "      <td></td>\n",
              "      <td>No</td>\n",
              "    </tr>\n",
              "    <tr>\n",
              "      <th>6754</th>\n",
              "      <td>Male</td>\n",
              "      <td>0</td>\n",
              "      <td>No</td>\n",
              "      <td>Yes</td>\n",
              "      <td>0</td>\n",
              "      <td>Yes</td>\n",
              "      <td>Yes</td>\n",
              "      <td>DSL</td>\n",
              "      <td>Yes</td>\n",
              "      <td>Yes</td>\n",
              "      <td>No</td>\n",
              "      <td>Yes</td>\n",
              "      <td>No</td>\n",
              "      <td>No</td>\n",
              "      <td>Two year</td>\n",
              "      <td>Yes</td>\n",
              "      <td>Bank transfer (automatic)</td>\n",
              "      <td>61.90</td>\n",
              "      <td></td>\n",
              "      <td>No</td>\n",
              "    </tr>\n",
              "  </tbody>\n",
              "</table>\n",
              "</div>"
            ],
            "text/plain": [
              "      gender  SeniorCitizen Partner  ... MonthlyCharges  TotalCharges Churn\n",
              "488   Female              0     Yes  ...          52.55                  No\n",
              "753     Male              0      No  ...          20.25                  No\n",
              "936   Female              0     Yes  ...          80.85                  No\n",
              "1082    Male              0     Yes  ...          25.75                  No\n",
              "1340  Female              0     Yes  ...          56.05                  No\n",
              "3331    Male              0     Yes  ...          19.85                  No\n",
              "3826    Male              0     Yes  ...          25.35                  No\n",
              "4380  Female              0     Yes  ...          20.00                  No\n",
              "5218    Male              0     Yes  ...          19.70                  No\n",
              "6670  Female              0     Yes  ...          73.35                  No\n",
              "6754    Male              0      No  ...          61.90                  No\n",
              "\n",
              "[11 rows x 20 columns]"
            ]
          },
          "metadata": {},
          "execution_count": 12
        }
      ]
    },
    {
      "cell_type": "code",
      "metadata": {
        "colab": {
          "base_uri": "https://localhost:8080/"
        },
        "id": "bz0Z0-2qbvcS",
        "outputId": "8464b5f7-4cc1-4b1c-db61-8ef2057460f7"
      },
      "source": [
        "df.shape"
      ],
      "execution_count": 13,
      "outputs": [
        {
          "output_type": "execute_result",
          "data": {
            "text/plain": [
              "(7043, 20)"
            ]
          },
          "metadata": {},
          "execution_count": 13
        }
      ]
    },
    {
      "cell_type": "code",
      "metadata": {
        "colab": {
          "base_uri": "https://localhost:8080/"
        },
        "id": "Ug8H4KLdbD0-",
        "outputId": "f012e6fd-38c6-47a0-e077-5fd3bd9c41ac"
      },
      "source": [
        "# Dropping these 11 rows\n",
        "df1 = df[df.TotalCharges != ' ']\n",
        "df1.shape"
      ],
      "execution_count": 14,
      "outputs": [
        {
          "output_type": "execute_result",
          "data": {
            "text/plain": [
              "(7032, 20)"
            ]
          },
          "metadata": {},
          "execution_count": 14
        }
      ]
    },
    {
      "cell_type": "code",
      "metadata": {
        "colab": {
          "base_uri": "https://localhost:8080/"
        },
        "id": "vUoXNJttbp7A",
        "outputId": "e0376da5-9e27-47e3-a06c-5d4ae6b27e08"
      },
      "source": [
        "df1.dtypes"
      ],
      "execution_count": 15,
      "outputs": [
        {
          "output_type": "execute_result",
          "data": {
            "text/plain": [
              "gender               object\n",
              "SeniorCitizen         int64\n",
              "Partner              object\n",
              "Dependents           object\n",
              "tenure                int64\n",
              "PhoneService         object\n",
              "MultipleLines        object\n",
              "InternetService      object\n",
              "OnlineSecurity       object\n",
              "OnlineBackup         object\n",
              "DeviceProtection     object\n",
              "TechSupport          object\n",
              "StreamingTV          object\n",
              "StreamingMovies      object\n",
              "Contract             object\n",
              "PaperlessBilling     object\n",
              "PaymentMethod        object\n",
              "MonthlyCharges      float64\n",
              "TotalCharges         object\n",
              "Churn                object\n",
              "dtype: object"
            ]
          },
          "metadata": {},
          "execution_count": 15
        }
      ]
    },
    {
      "cell_type": "code",
      "metadata": {
        "colab": {
          "base_uri": "https://localhost:8080/"
        },
        "id": "l5jkTowZb2WS",
        "outputId": "5a16486a-b5ac-4d03-f8a1-c6f33bb92a72"
      },
      "source": [
        "df1.TotalCharges = pd.to_numeric(df1.TotalCharges) "
      ],
      "execution_count": 16,
      "outputs": [
        {
          "output_type": "stream",
          "name": "stderr",
          "text": [
            "/usr/local/lib/python3.7/dist-packages/pandas/core/generic.py:5170: SettingWithCopyWarning: \n",
            "A value is trying to be set on a copy of a slice from a DataFrame.\n",
            "Try using .loc[row_indexer,col_indexer] = value instead\n",
            "\n",
            "See the caveats in the documentation: https://pandas.pydata.org/pandas-docs/stable/user_guide/indexing.html#returning-a-view-versus-a-copy\n",
            "  self[name] = value\n"
          ]
        }
      ]
    },
    {
      "cell_type": "code",
      "metadata": {
        "colab": {
          "base_uri": "https://localhost:8080/"
        },
        "id": "8c9ftHK8cEeP",
        "outputId": "7677154a-8166-43b5-8290-0d93eb060b48"
      },
      "source": [
        "df1.TotalCharges.dtypes"
      ],
      "execution_count": 17,
      "outputs": [
        {
          "output_type": "execute_result",
          "data": {
            "text/plain": [
              "dtype('float64')"
            ]
          },
          "metadata": {},
          "execution_count": 17
        }
      ]
    },
    {
      "cell_type": "code",
      "metadata": {
        "colab": {
          "base_uri": "https://localhost:8080/"
        },
        "id": "lr34ep-4cIFG",
        "outputId": "6ae438ae-8638-429c-957d-115cd287a9ad"
      },
      "source": [
        "df1.dtypes"
      ],
      "execution_count": 18,
      "outputs": [
        {
          "output_type": "execute_result",
          "data": {
            "text/plain": [
              "gender               object\n",
              "SeniorCitizen         int64\n",
              "Partner              object\n",
              "Dependents           object\n",
              "tenure                int64\n",
              "PhoneService         object\n",
              "MultipleLines        object\n",
              "InternetService      object\n",
              "OnlineSecurity       object\n",
              "OnlineBackup         object\n",
              "DeviceProtection     object\n",
              "TechSupport          object\n",
              "StreamingTV          object\n",
              "StreamingMovies      object\n",
              "Contract             object\n",
              "PaperlessBilling     object\n",
              "PaymentMethod        object\n",
              "MonthlyCharges      float64\n",
              "TotalCharges        float64\n",
              "Churn                object\n",
              "dtype: object"
            ]
          },
          "metadata": {},
          "execution_count": 18
        }
      ]
    },
    {
      "cell_type": "markdown",
      "metadata": {
        "id": "gGQ0jOntfihA"
      },
      "source": [
        "Exploring the tenure column"
      ]
    },
    {
      "cell_type": "code",
      "metadata": {
        "id": "i3gDdeApcLwL"
      },
      "source": [
        "tenure_churn_no = df1[df1.Churn == \"No\"].tenure\n",
        "tenure_churn_yes = df1[df1.Churn == \"Yes\"].tenure"
      ],
      "execution_count": 19,
      "outputs": []
    },
    {
      "cell_type": "code",
      "metadata": {
        "colab": {
          "base_uri": "https://localhost:8080/",
          "height": 351
        },
        "id": "JfhM6jSndVHF",
        "outputId": "af4eeafc-208e-4317-8c87-5823d4ab9518"
      },
      "source": [
        "plt.hist([tenure_churn_yes,tenure_churn_no],\n",
        "         color = ['green','red'],\n",
        "         label = ['ChurnYes', 'ChurnNo'])\n",
        "plt.legend()\n",
        "plt.xlabel('Tenure')\n",
        "plt.ylabel('Number of Customers')"
      ],
      "execution_count": 20,
      "outputs": [
        {
          "output_type": "stream",
          "name": "stderr",
          "text": [
            "/usr/local/lib/python3.7/dist-packages/numpy/core/_asarray.py:83: VisibleDeprecationWarning: Creating an ndarray from ragged nested sequences (which is a list-or-tuple of lists-or-tuples-or ndarrays with different lengths or shapes) is deprecated. If you meant to do this, you must specify 'dtype=object' when creating the ndarray\n",
            "  return array(a, dtype, copy=False, order=order)\n"
          ]
        },
        {
          "output_type": "execute_result",
          "data": {
            "text/plain": [
              "Text(0, 0.5, 'Number of Customers')"
            ]
          },
          "metadata": {},
          "execution_count": 20
        },
        {
          "output_type": "display_data",
          "data": {
            "image/png": "[encoded data removed]",
            "text/plain": [
              "<Figure size 432x288 with 1 Axes>"
            ]
          },
          "metadata": {
            "needs_background": "light"
          }
        }
      ]
    },
    {
      "cell_type": "markdown",
      "metadata": {
        "id": "Fxv9jLOMgT75"
      },
      "source": [
        "Exploring the monthly charges column"
      ]
    },
    {
      "cell_type": "code",
      "metadata": {
        "id": "AnLz3PSGedmQ"
      },
      "source": [
        "mc_churn_no = df1[df1.Churn == \"No\"].MonthlyCharges\n",
        "mc_churn_yes = df1[df1.Churn == \"Yes\"].MonthlyCharges"
      ],
      "execution_count": 21,
      "outputs": []
    },
    {
      "cell_type": "code",
      "metadata": {
        "colab": {
          "base_uri": "https://localhost:8080/",
          "height": 351
        },
        "id": "rdSId1-ngjJt",
        "outputId": "4ddc743e-9138-4bca-dc4a-d949db8f9324"
      },
      "source": [
        "plt.hist([mc_churn_yes,mc_churn_no],\n",
        "         color = ['green','red'],\n",
        "         label = ['ChurnYes', 'ChurnNo'])\n",
        "plt.legend()\n",
        "plt.xlabel('Monthly Charges')\n",
        "plt.ylabel('Number of Customers')"
      ],
      "execution_count": 22,
      "outputs": [
        {
          "output_type": "stream",
          "name": "stderr",
          "text": [
            "/usr/local/lib/python3.7/dist-packages/numpy/core/_asarray.py:83: VisibleDeprecationWarning: Creating an ndarray from ragged nested sequences (which is a list-or-tuple of lists-or-tuples-or ndarrays with different lengths or shapes) is deprecated. If you meant to do this, you must specify 'dtype=object' when creating the ndarray\n",
            "  return array(a, dtype, copy=False, order=order)\n"
          ]
        },
        {
          "output_type": "execute_result",
          "data": {
            "text/plain": [
              "Text(0, 0.5, 'Number of Customers')"
            ]
          },
          "metadata": {},
          "execution_count": 22
        },
        {
          "output_type": "display_data",
          "data": {
            "image/png": "[encoded data removed]",
            "text/plain": [
              "<Figure size 432x288 with 1 Axes>"
            ]
          },
          "metadata": {
            "needs_background": "light"
          }
        }
      ]
    },
    {
      "cell_type": "code",
      "metadata": {
        "id": "sc3aih-xgrOr"
      },
      "source": [
        "# Printing unique values for columns\n",
        "def print_unique_col_values(df):\n",
        "  for col in df:\n",
        "    if df[col].dtypes == 'object':\n",
        "    #print(f'{col} : {df1[col].unique()}')\n",
        "      print(f'{col} : {df[col].unique()}')"
      ],
      "execution_count": 23,
      "outputs": []
    },
    {
      "cell_type": "code",
      "metadata": {
        "colab": {
          "base_uri": "https://localhost:8080/"
        },
        "id": "lWgHAnjWhjpj",
        "outputId": "f7710fc3-c866-4475-ac15-8e93d2e333ad"
      },
      "source": [
        "print_unique_col_values(df1)"
      ],
      "execution_count": 24,
      "outputs": [
        {
          "output_type": "stream",
          "name": "stdout",
          "text": [
            "gender : ['Female' 'Male']\n",
            "Partner : ['Yes' 'No']\n",
            "Dependents : ['No' 'Yes']\n",
            "PhoneService : ['No' 'Yes']\n",
            "MultipleLines : ['No phone service' 'No' 'Yes']\n",
            "InternetService : ['DSL' 'Fiber optic' 'No']\n",
            "OnlineSecurity : ['No' 'Yes' 'No internet service']\n",
            "OnlineBackup : ['Yes' 'No' 'No internet service']\n",
            "DeviceProtection : ['No' 'Yes' 'No internet service']\n",
            "TechSupport : ['No' 'Yes' 'No internet service']\n",
            "StreamingTV : ['No' 'Yes' 'No internet service']\n",
            "StreamingMovies : ['No' 'Yes' 'No internet service']\n",
            "Contract : ['Month-to-month' 'One year' 'Two year']\n",
            "PaperlessBilling : ['Yes' 'No']\n",
            "PaymentMethod : ['Electronic check' 'Mailed check' 'Bank transfer (automatic)'\n",
            " 'Credit card (automatic)']\n",
            "Churn : ['No' 'Yes']\n"
          ]
        }
      ]
    },
    {
      "cell_type": "code",
      "metadata": {
        "colab": {
          "base_uri": "https://localhost:8080/"
        },
        "id": "cmvpM-qSjmc0",
        "outputId": "01bda21e-bbc9-4c60-ac62-07a0ac28c234"
      },
      "source": [
        "df1.replace('No phone service', 'No', inplace = True)\n",
        "df1.replace('No internet service', 'No', inplace = True)"
      ],
      "execution_count": 25,
      "outputs": [
        {
          "output_type": "stream",
          "name": "stderr",
          "text": [
            "/usr/local/lib/python3.7/dist-packages/pandas/core/frame.py:4389: SettingWithCopyWarning: \n",
            "A value is trying to be set on a copy of a slice from a DataFrame\n",
            "\n",
            "See the caveats in the documentation: https://pandas.pydata.org/pandas-docs/stable/user_guide/indexing.html#returning-a-view-versus-a-copy\n",
            "  method=method,\n"
          ]
        }
      ]
    },
    {
      "cell_type": "code",
      "metadata": {
        "colab": {
          "base_uri": "https://localhost:8080/"
        },
        "id": "TLu92sMCkEoz",
        "outputId": "498d1dca-452b-439e-ebd5-1876cec0c7a7"
      },
      "source": [
        "print_unique_col_values(df1)"
      ],
      "execution_count": 26,
      "outputs": [
        {
          "output_type": "stream",
          "name": "stdout",
          "text": [
            "gender : ['Female' 'Male']\n",
            "Partner : ['Yes' 'No']\n",
            "Dependents : ['No' 'Yes']\n",
            "PhoneService : ['No' 'Yes']\n",
            "MultipleLines : ['No' 'Yes']\n",
            "InternetService : ['DSL' 'Fiber optic' 'No']\n",
            "OnlineSecurity : ['No' 'Yes']\n",
            "OnlineBackup : ['Yes' 'No']\n",
            "DeviceProtection : ['No' 'Yes']\n",
            "TechSupport : ['No' 'Yes']\n",
            "StreamingTV : ['No' 'Yes']\n",
            "StreamingMovies : ['No' 'Yes']\n",
            "Contract : ['Month-to-month' 'One year' 'Two year']\n",
            "PaperlessBilling : ['Yes' 'No']\n",
            "PaymentMethod : ['Electronic check' 'Mailed check' 'Bank transfer (automatic)'\n",
            " 'Credit card (automatic)']\n",
            "Churn : ['No' 'Yes']\n"
          ]
        }
      ]
    },
    {
      "cell_type": "code",
      "metadata": {
        "id": "7iNXZX-PkGYU"
      },
      "source": [
        "yes_no_columns = ['Partner','Dependents','PhoneService','MultipleLines',\n",
        "                  'OnlineSecurity','OnlineBackup','DeviceProtection', 'TechSupport',\n",
        "                  'StreamingTV','StreamingMovies','PaperlessBilling','Churn']"
      ],
      "execution_count": 27,
      "outputs": []
    },
    {
      "cell_type": "code",
      "metadata": {
        "colab": {
          "base_uri": "https://localhost:8080/"
        },
        "id": "MgQvN9CglcLO",
        "outputId": "d514ec3e-85cb-4227-85e3-28512e321699"
      },
      "source": [
        "for col in yes_no_columns:\n",
        "  df1[col].replace({'Yes' : 1, 'No': 0}, inplace = True)"
      ],
      "execution_count": 28,
      "outputs": [
        {
          "output_type": "stream",
          "name": "stderr",
          "text": [
            "/usr/local/lib/python3.7/dist-packages/pandas/core/series.py:4582: SettingWithCopyWarning: \n",
            "A value is trying to be set on a copy of a slice from a DataFrame\n",
            "\n",
            "See the caveats in the documentation: https://pandas.pydata.org/pandas-docs/stable/user_guide/indexing.html#returning-a-view-versus-a-copy\n",
            "  method=method,\n"
          ]
        }
      ]
    },
    {
      "cell_type": "code",
      "metadata": {
        "colab": {
          "base_uri": "https://localhost:8080/"
        },
        "id": "SWd8InFOm9lG",
        "outputId": "b1b54144-3d36-497a-bb65-19680bef567f"
      },
      "source": [
        "for col in df1:\n",
        "    #print(f'{col} : {df1[col].unique()}')\n",
        "    print(f'{col} : {df1[col].unique()}')"
      ],
      "execution_count": 29,
      "outputs": [
        {
          "output_type": "stream",
          "name": "stdout",
          "text": [
            "gender : ['Female' 'Male']\n",
            "SeniorCitizen : [0 1]\n",
            "Partner : [1 0]\n",
            "Dependents : [0 1]\n",
            "tenure : [ 1 34  2 45  8 22 10 28 62 13 16 58 49 25 69 52 71 21 12 30 47 72 17 27\n",
            "  5 46 11 70 63 43 15 60 18 66  9  3 31 50 64 56  7 42 35 48 29 65 38 68\n",
            " 32 55 37 36 41  6  4 33 67 23 57 61 14 20 53 40 59 24 44 19 54 51 26 39]\n",
            "PhoneService : [0 1]\n",
            "MultipleLines : [0 1]\n",
            "InternetService : ['DSL' 'Fiber optic' 'No']\n",
            "OnlineSecurity : [0 1]\n",
            "OnlineBackup : [1 0]\n",
            "DeviceProtection : [0 1]\n",
            "TechSupport : [0 1]\n",
            "StreamingTV : [0 1]\n",
            "StreamingMovies : [0 1]\n",
            "Contract : ['Month-to-month' 'One year' 'Two year']\n",
            "PaperlessBilling : [1 0]\n",
            "PaymentMethod : ['Electronic check' 'Mailed check' 'Bank transfer (automatic)'\n",
            " 'Credit card (automatic)']\n",
            "MonthlyCharges : [29.85 56.95 53.85 ... 63.1  44.2  78.7 ]\n",
            "TotalCharges : [  29.85 1889.5   108.15 ...  346.45  306.6  6844.5 ]\n",
            "Churn : [0 1]\n"
          ]
        }
      ]
    },
    {
      "cell_type": "code",
      "metadata": {
        "colab": {
          "base_uri": "https://localhost:8080/"
        },
        "id": "g220KMfnnMzD",
        "outputId": "b18c2247-ea5e-454c-9e95-21257f6ec139"
      },
      "source": [
        "df1['gender'].replace({'Female': 1, 'Male': 0}, inplace = True)"
      ],
      "execution_count": 30,
      "outputs": [
        {
          "output_type": "stream",
          "name": "stderr",
          "text": [
            "/usr/local/lib/python3.7/dist-packages/pandas/core/series.py:4582: SettingWithCopyWarning: \n",
            "A value is trying to be set on a copy of a slice from a DataFrame\n",
            "\n",
            "See the caveats in the documentation: https://pandas.pydata.org/pandas-docs/stable/user_guide/indexing.html#returning-a-view-versus-a-copy\n",
            "  method=method,\n"
          ]
        }
      ]
    },
    {
      "cell_type": "code",
      "metadata": {
        "colab": {
          "base_uri": "https://localhost:8080/"
        },
        "id": "js7kX9ggnl0g",
        "outputId": "4417282a-83e6-4983-fb8a-16bd67507b23"
      },
      "source": [
        "df1['gender'].unique()"
      ],
      "execution_count": 31,
      "outputs": [
        {
          "output_type": "execute_result",
          "data": {
            "text/plain": [
              "array([1, 0])"
            ]
          },
          "metadata": {},
          "execution_count": 31
        }
      ]
    },
    {
      "cell_type": "code",
      "metadata": {
        "colab": {
          "base_uri": "https://localhost:8080/"
        },
        "id": "h-AQAnGsnqne",
        "outputId": "69dfd2dc-3e16-414f-f7d9-8fc766749aa4"
      },
      "source": [
        "df2 = pd.get_dummies(data = df1, columns = ['InternetService','Contract','PaymentMethod'])\n",
        "df2.columns"
      ],
      "execution_count": 32,
      "outputs": [
        {
          "output_type": "execute_result",
          "data": {
            "text/plain": [
              "Index(['gender', 'SeniorCitizen', 'Partner', 'Dependents', 'tenure',\n",
              "       'PhoneService', 'MultipleLines', 'OnlineSecurity', 'OnlineBackup',\n",
              "       'DeviceProtection', 'TechSupport', 'StreamingTV', 'StreamingMovies',\n",
              "       'PaperlessBilling', 'MonthlyCharges', 'TotalCharges', 'Churn',\n",
              "       'InternetService_DSL', 'InternetService_Fiber optic',\n",
              "       'InternetService_No', 'Contract_Month-to-month', 'Contract_One year',\n",
              "       'Contract_Two year', 'PaymentMethod_Bank transfer (automatic)',\n",
              "       'PaymentMethod_Credit card (automatic)',\n",
              "       'PaymentMethod_Electronic check', 'PaymentMethod_Mailed check'],\n",
              "      dtype='object')"
            ]
          },
          "metadata": {},
          "execution_count": 32
        }
      ]
    },
    {
      "cell_type": "code",
      "metadata": {
        "colab": {
          "base_uri": "https://localhost:8080/"
        },
        "id": "CFIdXM7GoQLI",
        "outputId": "a2119c2d-00ba-4a56-9048-e2d80e07ffaa"
      },
      "source": [
        "df2.dtypes"
      ],
      "execution_count": 33,
      "outputs": [
        {
          "output_type": "execute_result",
          "data": {
            "text/plain": [
              "gender                                       int64\n",
              "SeniorCitizen                                int64\n",
              "Partner                                      int64\n",
              "Dependents                                   int64\n",
              "tenure                                       int64\n",
              "PhoneService                                 int64\n",
              "MultipleLines                                int64\n",
              "OnlineSecurity                               int64\n",
              "OnlineBackup                                 int64\n",
              "DeviceProtection                             int64\n",
              "TechSupport                                  int64\n",
              "StreamingTV                                  int64\n",
              "StreamingMovies                              int64\n",
              "PaperlessBilling                             int64\n",
              "MonthlyCharges                             float64\n",
              "TotalCharges                               float64\n",
              "Churn                                        int64\n",
              "InternetService_DSL                          uint8\n",
              "InternetService_Fiber optic                  uint8\n",
              "InternetService_No                           uint8\n",
              "Contract_Month-to-month                      uint8\n",
              "Contract_One year                            uint8\n",
              "Contract_Two year                            uint8\n",
              "PaymentMethod_Bank transfer (automatic)      uint8\n",
              "PaymentMethod_Credit card (automatic)        uint8\n",
              "PaymentMethod_Electronic check               uint8\n",
              "PaymentMethod_Mailed check                   uint8\n",
              "dtype: object"
            ]
          },
          "metadata": {},
          "execution_count": 33
        }
      ]
    },
    {
      "cell_type": "code",
      "metadata": {
        "id": "uXJGDhXxofam"
      },
      "source": [
        "# Scaling the features\n",
        "cols_to_scale = ['tenure','MonthlyCharges','TotalCharges']\n",
        "from sklearn.preprocessing import MinMaxScaler\n",
        "scaler = MinMaxScaler()\n",
        "df2[cols_to_scale] =  scaler.fit_transform(df2[cols_to_scale])"
      ],
      "execution_count": 34,
      "outputs": []
    },
    {
      "cell_type": "code",
      "metadata": {
        "colab": {
          "base_uri": "https://localhost:8080/"
        },
        "id": "jBs2tspwpMPU",
        "outputId": "37591c86-a6e2-4078-df73-69a527abd282"
      },
      "source": [
        "for col in df2:\n",
        "  print(f'{col}: {df2[col].unique()}')"
      ],
      "execution_count": 35,
      "outputs": [
        {
          "output_type": "stream",
          "name": "stdout",
          "text": [
            "gender: [1 0]\n",
            "SeniorCitizen: [0 1]\n",
            "Partner: [1 0]\n",
            "Dependents: [0 1]\n",
            "tenure: [0.         0.46478873 0.01408451 0.61971831 0.09859155 0.29577465\n",
            " 0.12676056 0.38028169 0.85915493 0.16901408 0.21126761 0.8028169\n",
            " 0.67605634 0.33802817 0.95774648 0.71830986 0.98591549 0.28169014\n",
            " 0.15492958 0.4084507  0.64788732 1.         0.22535211 0.36619718\n",
            " 0.05633803 0.63380282 0.14084507 0.97183099 0.87323944 0.5915493\n",
            " 0.1971831  0.83098592 0.23943662 0.91549296 0.11267606 0.02816901\n",
            " 0.42253521 0.69014085 0.88732394 0.77464789 0.08450704 0.57746479\n",
            " 0.47887324 0.66197183 0.3943662  0.90140845 0.52112676 0.94366197\n",
            " 0.43661972 0.76056338 0.50704225 0.49295775 0.56338028 0.07042254\n",
            " 0.04225352 0.45070423 0.92957746 0.30985915 0.78873239 0.84507042\n",
            " 0.18309859 0.26760563 0.73239437 0.54929577 0.81690141 0.32394366\n",
            " 0.6056338  0.25352113 0.74647887 0.70422535 0.35211268 0.53521127]\n",
            "PhoneService: [0 1]\n",
            "MultipleLines: [0 1]\n",
            "OnlineSecurity: [0 1]\n",
            "OnlineBackup: [1 0]\n",
            "DeviceProtection: [0 1]\n",
            "TechSupport: [0 1]\n",
            "StreamingTV: [0 1]\n",
            "StreamingMovies: [0 1]\n",
            "PaperlessBilling: [1 0]\n",
            "MonthlyCharges: [0.11542289 0.38507463 0.35422886 ... 0.44626866 0.25820896 0.60149254]\n",
            "TotalCharges: [0.0012751  0.21586661 0.01031041 ... 0.03780868 0.03321025 0.78764136]\n",
            "Churn: [0 1]\n",
            "InternetService_DSL: [1 0]\n",
            "InternetService_Fiber optic: [0 1]\n",
            "InternetService_No: [0 1]\n",
            "Contract_Month-to-month: [1 0]\n",
            "Contract_One year: [0 1]\n",
            "Contract_Two year: [0 1]\n",
            "PaymentMethod_Bank transfer (automatic): [0 1]\n",
            "PaymentMethod_Credit card (automatic): [0 1]\n",
            "PaymentMethod_Electronic check: [1 0]\n",
            "PaymentMethod_Mailed check: [0 1]\n"
          ]
        }
      ]
    },
    {
      "cell_type": "code",
      "metadata": {
        "id": "Qj1SVAn_p32D"
      },
      "source": [
        "X = df2.drop('Churn', axis = 1)\n",
        "y = df2['Churn']"
      ],
      "execution_count": 36,
      "outputs": []
    },
    {
      "cell_type": "code",
      "metadata": {
        "id": "8_mSLlYypT02"
      },
      "source": [
        "from sklearn.model_selection import train_test_split\n",
        "X_train,X_test, y_train,y_test = train_test_split(X,y,test_size = 0.2,random_state = 45 )"
      ],
      "execution_count": 37,
      "outputs": []
    },
    {
      "cell_type": "code",
      "metadata": {
        "colab": {
          "base_uri": "https://localhost:8080/"
        },
        "id": "oShVhBS6qI3B",
        "outputId": "94ef14a7-602e-47e7-82d2-51c78db3e82f"
      },
      "source": [
        "X_train.shape"
      ],
      "execution_count": 38,
      "outputs": [
        {
          "output_type": "execute_result",
          "data": {
            "text/plain": [
              "(5625, 26)"
            ]
          },
          "metadata": {},
          "execution_count": 38
        }
      ]
    },
    {
      "cell_type": "code",
      "metadata": {
        "colab": {
          "base_uri": "https://localhost:8080/"
        },
        "id": "GqgwSWIWqLeo",
        "outputId": "a7c884be-c021-4577-b5ae-11d81d073162"
      },
      "source": [
        "X_test.shape"
      ],
      "execution_count": 39,
      "outputs": [
        {
          "output_type": "execute_result",
          "data": {
            "text/plain": [
              "(1407, 26)"
            ]
          },
          "metadata": {},
          "execution_count": 39
        }
      ]
    },
    {
      "cell_type": "code",
      "metadata": {
        "id": "oQtEIZqXqNo3"
      },
      "source": [
        "import tensorflow as tf\n",
        "from tensorflow import keras"
      ],
      "execution_count": 40,
      "outputs": []
    },
    {
      "cell_type": "code",
      "metadata": {
        "id": "HTT0U8_2qpWU"
      },
      "source": [
        "model = keras.Sequential([\n",
        "  keras.layers.Dense(20,input_shape = (26,),activation = 'relu' ), #i/p layer and hl1\n",
        "  keras.layers.Dense(15,activation = 'relu' ), #hl2\n",
        "  keras.layers.Dense(10,activation = 'relu'), #hl3\n",
        "  keras.layers.Dense(1,activation = 'sigmoid') #o/p layer\n",
        "])\n",
        "\n",
        "model.compile(optimizer = 'adam',\n",
        "              loss = 'binary_crossentropy',\n",
        "              metrics = ['accuracy'])"
      ],
      "execution_count": 41,
      "outputs": []
    },
    {
      "cell_type": "code",
      "metadata": {
        "colab": {
          "base_uri": "https://localhost:8080/"
        },
        "id": "9AHBW9-GrwI7",
        "outputId": "a575e221-c76a-47b7-e8af-df5bebdcb6c4"
      },
      "source": [
        "model.fit(X_train,y_train, epochs = 100,verbose = True, validation_split=0.2)"
      ],
      "execution_count": 42,
      "outputs": [
        {
          "output_type": "stream",
          "name": "stdout",
          "text": [
            "Epoch 1/100\n",
            "141/141 [==============================] - 3s 6ms/step - loss: 0.5253 - accuracy: 0.7402 - val_loss: 0.4772 - val_accuracy: 0.7573\n",
            "Epoch 2/100\n",
            "141/141 [==============================] - 1s 5ms/step - loss: 0.4410 - accuracy: 0.7862 - val_loss: 0.4611 - val_accuracy: 0.7644\n",
            "Epoch 3/100\n",
            "141/141 [==============================] - 1s 5ms/step - loss: 0.4276 - accuracy: 0.7964 - val_loss: 0.4508 - val_accuracy: 0.7653\n",
            "Epoch 4/100\n",
            "141/141 [==============================] - 1s 6ms/step - loss: 0.4202 - accuracy: 0.8031 - val_loss: 0.4499 - val_accuracy: 0.7724\n",
            "Epoch 5/100\n",
            "141/141 [==============================] - 1s 5ms/step - loss: 0.4161 - accuracy: 0.8073 - val_loss: 0.4462 - val_accuracy: 0.7804\n",
            "Epoch 6/100\n",
            "141/141 [==============================] - 1s 5ms/step - loss: 0.4103 - accuracy: 0.8102 - val_loss: 0.4437 - val_accuracy: 0.7760\n",
            "Epoch 7/100\n",
            "141/141 [==============================] - 1s 5ms/step - loss: 0.4079 - accuracy: 0.8127 - val_loss: 0.4411 - val_accuracy: 0.7778\n",
            "Epoch 8/100\n",
            "141/141 [==============================] - 1s 5ms/step - loss: 0.4029 - accuracy: 0.8156 - val_loss: 0.4409 - val_accuracy: 0.7831\n",
            "Epoch 9/100\n",
            "141/141 [==============================] - 1s 5ms/step - loss: 0.4011 - accuracy: 0.8162 - val_loss: 0.4386 - val_accuracy: 0.7804\n",
            "Epoch 10/100\n",
            "141/141 [==============================] - 1s 5ms/step - loss: 0.3994 - accuracy: 0.8202 - val_loss: 0.4407 - val_accuracy: 0.7822\n",
            "Epoch 11/100\n",
            "141/141 [==============================] - 1s 5ms/step - loss: 0.3975 - accuracy: 0.8171 - val_loss: 0.4392 - val_accuracy: 0.7858\n",
            "Epoch 12/100\n",
            "141/141 [==============================] - 1s 5ms/step - loss: 0.3973 - accuracy: 0.8204 - val_loss: 0.4430 - val_accuracy: 0.7813\n",
            "Epoch 13/100\n",
            "141/141 [==============================] - 1s 5ms/step - loss: 0.3934 - accuracy: 0.8247 - val_loss: 0.4514 - val_accuracy: 0.7858\n",
            "Epoch 14/100\n",
            "141/141 [==============================] - 1s 6ms/step - loss: 0.3911 - accuracy: 0.8207 - val_loss: 0.4409 - val_accuracy: 0.7867\n",
            "Epoch 15/100\n",
            "141/141 [==============================] - 1s 5ms/step - loss: 0.3912 - accuracy: 0.8240 - val_loss: 0.4417 - val_accuracy: 0.7849\n",
            "Epoch 16/100\n",
            "141/141 [==============================] - 1s 5ms/step - loss: 0.3902 - accuracy: 0.8249 - val_loss: 0.4540 - val_accuracy: 0.7831\n",
            "Epoch 17/100\n",
            "141/141 [==============================] - 1s 5ms/step - loss: 0.3889 - accuracy: 0.8249 - val_loss: 0.4469 - val_accuracy: 0.7822\n",
            "Epoch 18/100\n",
            "141/141 [==============================] - 1s 5ms/step - loss: 0.3876 - accuracy: 0.8276 - val_loss: 0.4548 - val_accuracy: 0.7849\n",
            "Epoch 19/100\n",
            "141/141 [==============================] - 1s 5ms/step - loss: 0.3868 - accuracy: 0.8238 - val_loss: 0.4565 - val_accuracy: 0.7840\n",
            "Epoch 20/100\n",
            "141/141 [==============================] - 1s 5ms/step - loss: 0.3863 - accuracy: 0.8258 - val_loss: 0.4479 - val_accuracy: 0.7787\n",
            "Epoch 21/100\n",
            "141/141 [==============================] - 1s 5ms/step - loss: 0.3845 - accuracy: 0.8269 - val_loss: 0.4557 - val_accuracy: 0.7840\n",
            "Epoch 22/100\n",
            "141/141 [==============================] - 1s 5ms/step - loss: 0.3840 - accuracy: 0.8238 - val_loss: 0.4458 - val_accuracy: 0.7858\n",
            "Epoch 23/100\n",
            "141/141 [==============================] - 1s 5ms/step - loss: 0.3827 - accuracy: 0.8318 - val_loss: 0.4472 - val_accuracy: 0.7822\n",
            "Epoch 24/100\n",
            "141/141 [==============================] - 1s 5ms/step - loss: 0.3817 - accuracy: 0.8304 - val_loss: 0.4482 - val_accuracy: 0.7867\n",
            "Epoch 25/100\n",
            "141/141 [==============================] - 1s 5ms/step - loss: 0.3832 - accuracy: 0.8240 - val_loss: 0.4465 - val_accuracy: 0.7929\n",
            "Epoch 26/100\n",
            "141/141 [==============================] - 1s 5ms/step - loss: 0.3803 - accuracy: 0.8260 - val_loss: 0.4470 - val_accuracy: 0.7920\n",
            "Epoch 27/100\n",
            "141/141 [==============================] - 1s 5ms/step - loss: 0.3799 - accuracy: 0.8264 - val_loss: 0.4558 - val_accuracy: 0.7884\n",
            "Epoch 28/100\n",
            "141/141 [==============================] - 1s 6ms/step - loss: 0.3778 - accuracy: 0.8329 - val_loss: 0.4522 - val_accuracy: 0.7911\n",
            "Epoch 29/100\n",
            "141/141 [==============================] - 1s 5ms/step - loss: 0.3775 - accuracy: 0.8287 - val_loss: 0.4491 - val_accuracy: 0.7858\n",
            "Epoch 30/100\n",
            "141/141 [==============================] - 1s 5ms/step - loss: 0.3762 - accuracy: 0.8264 - val_loss: 0.4548 - val_accuracy: 0.7831\n",
            "Epoch 31/100\n",
            "141/141 [==============================] - 1s 5ms/step - loss: 0.3750 - accuracy: 0.8313 - val_loss: 0.4600 - val_accuracy: 0.7822\n",
            "Epoch 32/100\n",
            "141/141 [==============================] - 1s 5ms/step - loss: 0.3746 - accuracy: 0.8342 - val_loss: 0.4539 - val_accuracy: 0.7813\n",
            "Epoch 33/100\n",
            "141/141 [==============================] - 1s 5ms/step - loss: 0.3744 - accuracy: 0.8320 - val_loss: 0.4526 - val_accuracy: 0.7858\n",
            "Epoch 34/100\n",
            "141/141 [==============================] - 1s 5ms/step - loss: 0.3722 - accuracy: 0.8320 - val_loss: 0.4586 - val_accuracy: 0.7884\n",
            "Epoch 35/100\n",
            "141/141 [==============================] - 1s 5ms/step - loss: 0.3724 - accuracy: 0.8300 - val_loss: 0.4603 - val_accuracy: 0.7831\n",
            "Epoch 36/100\n",
            "141/141 [==============================] - 1s 5ms/step - loss: 0.3730 - accuracy: 0.8280 - val_loss: 0.4563 - val_accuracy: 0.7893\n",
            "Epoch 37/100\n",
            "141/141 [==============================] - 1s 5ms/step - loss: 0.3726 - accuracy: 0.8293 - val_loss: 0.4601 - val_accuracy: 0.7831\n",
            "Epoch 38/100\n",
            "141/141 [==============================] - 1s 5ms/step - loss: 0.3712 - accuracy: 0.8336 - val_loss: 0.4672 - val_accuracy: 0.7831\n",
            "Epoch 39/100\n",
            "141/141 [==============================] - 1s 5ms/step - loss: 0.3716 - accuracy: 0.8336 - val_loss: 0.4664 - val_accuracy: 0.7831\n",
            "Epoch 40/100\n",
            "141/141 [==============================] - 1s 5ms/step - loss: 0.3695 - accuracy: 0.8324 - val_loss: 0.4668 - val_accuracy: 0.7804\n",
            "Epoch 41/100\n",
            "141/141 [==============================] - 1s 5ms/step - loss: 0.3677 - accuracy: 0.8331 - val_loss: 0.4647 - val_accuracy: 0.7831\n",
            "Epoch 42/100\n",
            "141/141 [==============================] - 1s 5ms/step - loss: 0.3685 - accuracy: 0.8353 - val_loss: 0.4634 - val_accuracy: 0.7769\n",
            "Epoch 43/100\n",
            "141/141 [==============================] - 1s 5ms/step - loss: 0.3667 - accuracy: 0.8369 - val_loss: 0.4616 - val_accuracy: 0.7858\n",
            "Epoch 44/100\n",
            "141/141 [==============================] - 1s 5ms/step - loss: 0.3673 - accuracy: 0.8342 - val_loss: 0.4663 - val_accuracy: 0.7813\n",
            "Epoch 45/100\n",
            "141/141 [==============================] - 1s 5ms/step - loss: 0.3672 - accuracy: 0.8367 - val_loss: 0.4618 - val_accuracy: 0.7778\n",
            "Epoch 46/100\n",
            "141/141 [==============================] - 1s 5ms/step - loss: 0.3656 - accuracy: 0.8373 - val_loss: 0.4622 - val_accuracy: 0.7769\n",
            "Epoch 47/100\n",
            "141/141 [==============================] - 1s 5ms/step - loss: 0.3664 - accuracy: 0.8402 - val_loss: 0.4639 - val_accuracy: 0.7831\n",
            "Epoch 48/100\n",
            "141/141 [==============================] - 1s 5ms/step - loss: 0.3648 - accuracy: 0.8367 - val_loss: 0.4801 - val_accuracy: 0.7804\n",
            "Epoch 49/100\n",
            "141/141 [==============================] - 1s 5ms/step - loss: 0.3636 - accuracy: 0.8353 - val_loss: 0.4640 - val_accuracy: 0.7804\n",
            "Epoch 50/100\n",
            "141/141 [==============================] - 1s 5ms/step - loss: 0.3646 - accuracy: 0.8349 - val_loss: 0.4677 - val_accuracy: 0.7769\n",
            "Epoch 51/100\n",
            "141/141 [==============================] - 1s 4ms/step - loss: 0.3632 - accuracy: 0.8362 - val_loss: 0.4724 - val_accuracy: 0.7787\n",
            "Epoch 52/100\n",
            "141/141 [==============================] - 1s 5ms/step - loss: 0.3628 - accuracy: 0.8400 - val_loss: 0.4671 - val_accuracy: 0.7813\n",
            "Epoch 53/100\n",
            "141/141 [==============================] - 1s 5ms/step - loss: 0.3610 - accuracy: 0.8362 - val_loss: 0.4702 - val_accuracy: 0.7831\n",
            "Epoch 54/100\n",
            "141/141 [==============================] - 1s 5ms/step - loss: 0.3608 - accuracy: 0.8378 - val_loss: 0.4686 - val_accuracy: 0.7804\n",
            "Epoch 55/100\n",
            "141/141 [==============================] - 1s 5ms/step - loss: 0.3602 - accuracy: 0.8389 - val_loss: 0.4722 - val_accuracy: 0.7831\n",
            "Epoch 56/100\n",
            "141/141 [==============================] - 1s 5ms/step - loss: 0.3606 - accuracy: 0.8371 - val_loss: 0.4832 - val_accuracy: 0.7787\n",
            "Epoch 57/100\n",
            "141/141 [==============================] - 1s 5ms/step - loss: 0.3573 - accuracy: 0.8427 - val_loss: 0.4923 - val_accuracy: 0.7813\n",
            "Epoch 58/100\n",
            "141/141 [==============================] - 1s 5ms/step - loss: 0.3594 - accuracy: 0.8378 - val_loss: 0.4697 - val_accuracy: 0.7760\n",
            "Epoch 59/100\n",
            "141/141 [==============================] - 1s 5ms/step - loss: 0.3572 - accuracy: 0.8393 - val_loss: 0.4722 - val_accuracy: 0.7796\n",
            "Epoch 60/100\n",
            "141/141 [==============================] - 1s 5ms/step - loss: 0.3577 - accuracy: 0.8387 - val_loss: 0.4717 - val_accuracy: 0.7787\n",
            "Epoch 61/100\n",
            "141/141 [==============================] - 1s 5ms/step - loss: 0.3570 - accuracy: 0.8398 - val_loss: 0.4704 - val_accuracy: 0.7733\n",
            "Epoch 62/100\n",
            "141/141 [==============================] - 1s 5ms/step - loss: 0.3574 - accuracy: 0.8404 - val_loss: 0.4769 - val_accuracy: 0.7813\n",
            "Epoch 63/100\n",
            "141/141 [==============================] - 1s 5ms/step - loss: 0.3568 - accuracy: 0.8393 - val_loss: 0.4753 - val_accuracy: 0.7787\n",
            "Epoch 64/100\n",
            "141/141 [==============================] - 1s 5ms/step - loss: 0.3556 - accuracy: 0.8418 - val_loss: 0.4744 - val_accuracy: 0.7778\n",
            "Epoch 65/100\n",
            "141/141 [==============================] - 1s 5ms/step - loss: 0.3540 - accuracy: 0.8389 - val_loss: 0.4747 - val_accuracy: 0.7804\n",
            "Epoch 66/100\n",
            "141/141 [==============================] - 1s 5ms/step - loss: 0.3550 - accuracy: 0.8424 - val_loss: 0.4863 - val_accuracy: 0.7831\n",
            "Epoch 67/100\n",
            "141/141 [==============================] - 1s 6ms/step - loss: 0.3537 - accuracy: 0.8411 - val_loss: 0.4796 - val_accuracy: 0.7796\n",
            "Epoch 68/100\n",
            "141/141 [==============================] - 1s 5ms/step - loss: 0.3546 - accuracy: 0.8378 - val_loss: 0.4848 - val_accuracy: 0.7760\n",
            "Epoch 69/100\n",
            "141/141 [==============================] - 1s 5ms/step - loss: 0.3535 - accuracy: 0.8373 - val_loss: 0.4787 - val_accuracy: 0.7751\n",
            "Epoch 70/100\n",
            "141/141 [==============================] - 1s 5ms/step - loss: 0.3535 - accuracy: 0.8378 - val_loss: 0.4758 - val_accuracy: 0.7760\n",
            "Epoch 71/100\n",
            "141/141 [==============================] - 1s 5ms/step - loss: 0.3532 - accuracy: 0.8400 - val_loss: 0.4860 - val_accuracy: 0.7769\n",
            "Epoch 72/100\n",
            "141/141 [==============================] - 1s 6ms/step - loss: 0.3515 - accuracy: 0.8440 - val_loss: 0.4895 - val_accuracy: 0.7778\n",
            "Epoch 73/100\n",
            "141/141 [==============================] - 1s 5ms/step - loss: 0.3513 - accuracy: 0.8451 - val_loss: 0.4824 - val_accuracy: 0.7778\n",
            "Epoch 74/100\n",
            "141/141 [==============================] - 1s 5ms/step - loss: 0.3514 - accuracy: 0.8440 - val_loss: 0.4828 - val_accuracy: 0.7742\n",
            "Epoch 75/100\n",
            "141/141 [==============================] - 1s 5ms/step - loss: 0.3500 - accuracy: 0.8407 - val_loss: 0.4802 - val_accuracy: 0.7769\n",
            "Epoch 76/100\n",
            "141/141 [==============================] - 1s 5ms/step - loss: 0.3503 - accuracy: 0.8422 - val_loss: 0.4829 - val_accuracy: 0.7778\n",
            "Epoch 77/100\n",
            "141/141 [==============================] - 1s 5ms/step - loss: 0.3489 - accuracy: 0.8451 - val_loss: 0.4793 - val_accuracy: 0.7760\n",
            "Epoch 78/100\n",
            "141/141 [==============================] - 1s 5ms/step - loss: 0.3501 - accuracy: 0.8462 - val_loss: 0.4767 - val_accuracy: 0.7724\n",
            "Epoch 79/100\n",
            "141/141 [==============================] - 1s 5ms/step - loss: 0.3488 - accuracy: 0.8451 - val_loss: 0.4924 - val_accuracy: 0.7778\n",
            "Epoch 80/100\n",
            "141/141 [==============================] - 1s 5ms/step - loss: 0.3489 - accuracy: 0.8427 - val_loss: 0.4782 - val_accuracy: 0.7760\n",
            "Epoch 81/100\n",
            "141/141 [==============================] - 1s 6ms/step - loss: 0.3470 - accuracy: 0.8436 - val_loss: 0.4865 - val_accuracy: 0.7716\n",
            "Epoch 82/100\n",
            "141/141 [==============================] - 1s 6ms/step - loss: 0.3480 - accuracy: 0.8480 - val_loss: 0.4827 - val_accuracy: 0.7787\n",
            "Epoch 83/100\n",
            "141/141 [==============================] - 1s 5ms/step - loss: 0.3468 - accuracy: 0.8438 - val_loss: 0.4975 - val_accuracy: 0.7742\n",
            "Epoch 84/100\n",
            "141/141 [==============================] - 1s 5ms/step - loss: 0.3456 - accuracy: 0.8478 - val_loss: 0.4902 - val_accuracy: 0.7724\n",
            "Epoch 85/100\n",
            "141/141 [==============================] - 1s 5ms/step - loss: 0.3459 - accuracy: 0.8458 - val_loss: 0.4869 - val_accuracy: 0.7778\n",
            "Epoch 86/100\n",
            "141/141 [==============================] - 1s 5ms/step - loss: 0.3444 - accuracy: 0.8429 - val_loss: 0.4883 - val_accuracy: 0.7707\n",
            "Epoch 87/100\n",
            "141/141 [==============================] - 1s 5ms/step - loss: 0.3450 - accuracy: 0.8487 - val_loss: 0.4900 - val_accuracy: 0.7707\n",
            "Epoch 88/100\n",
            "141/141 [==============================] - 1s 5ms/step - loss: 0.3442 - accuracy: 0.8422 - val_loss: 0.4976 - val_accuracy: 0.7724\n",
            "Epoch 89/100\n",
            "141/141 [==============================] - 1s 5ms/step - loss: 0.3444 - accuracy: 0.8447 - val_loss: 0.4854 - val_accuracy: 0.7769\n",
            "Epoch 90/100\n",
            "141/141 [==============================] - 1s 5ms/step - loss: 0.3443 - accuracy: 0.8471 - val_loss: 0.4900 - val_accuracy: 0.7804\n",
            "Epoch 91/100\n",
            "141/141 [==============================] - 1s 5ms/step - loss: 0.3445 - accuracy: 0.8424 - val_loss: 0.4890 - val_accuracy: 0.7689\n",
            "Epoch 92/100\n",
            "141/141 [==============================] - 1s 5ms/step - loss: 0.3444 - accuracy: 0.8449 - val_loss: 0.4798 - val_accuracy: 0.7742\n",
            "Epoch 93/100\n",
            "141/141 [==============================] - 1s 5ms/step - loss: 0.3418 - accuracy: 0.8456 - val_loss: 0.4963 - val_accuracy: 0.7724\n",
            "Epoch 94/100\n",
            "141/141 [==============================] - 1s 5ms/step - loss: 0.3431 - accuracy: 0.8464 - val_loss: 0.4893 - val_accuracy: 0.7760\n",
            "Epoch 95/100\n",
            "141/141 [==============================] - 1s 5ms/step - loss: 0.3409 - accuracy: 0.8464 - val_loss: 0.4913 - val_accuracy: 0.7716\n",
            "Epoch 96/100\n",
            "141/141 [==============================] - 1s 5ms/step - loss: 0.3391 - accuracy: 0.8427 - val_loss: 0.4907 - val_accuracy: 0.7804\n",
            "Epoch 97/100\n",
            "141/141 [==============================] - 1s 5ms/step - loss: 0.3409 - accuracy: 0.8456 - val_loss: 0.5050 - val_accuracy: 0.7733\n",
            "Epoch 98/100\n",
            "141/141 [==============================] - 1s 5ms/step - loss: 0.3410 - accuracy: 0.8482 - val_loss: 0.4928 - val_accuracy: 0.7804\n",
            "Epoch 99/100\n",
            "141/141 [==============================] - 1s 6ms/step - loss: 0.3405 - accuracy: 0.8447 - val_loss: 0.4957 - val_accuracy: 0.7751\n",
            "Epoch 100/100\n",
            "141/141 [==============================] - 1s 5ms/step - loss: 0.3408 - accuracy: 0.8438 - val_loss: 0.4913 - val_accuracy: 0.7831\n"
          ]
        },
        {
          "output_type": "execute_result",
          "data": {
            "text/plain": [
              "<keras.callbacks.History at 0x7f436e326610>"
            ]
          },
          "metadata": {},
          "execution_count": 42
        }
      ]
    },
    {
      "cell_type": "code",
      "metadata": {
        "colab": {
          "base_uri": "https://localhost:8080/"
        },
        "id": "F3hZNq1nr1m5",
        "outputId": "69aa7b5b-7e92-4691-85b4-bd7c1923f900"
      },
      "source": [
        "model.evaluate(X_test,y_test)"
      ],
      "execution_count": 43,
      "outputs": [
        {
          "output_type": "stream",
          "name": "stdout",
          "text": [
            "44/44 [==============================] - 0s 3ms/step - loss: 0.4923 - accuracy: 0.7711\n"
          ]
        },
        {
          "output_type": "execute_result",
          "data": {
            "text/plain": [
              "[0.49225568771362305, 0.7711442708969116]"
            ]
          },
          "metadata": {},
          "execution_count": 43
        }
      ]
    },
    {
      "cell_type": "code",
      "metadata": {
        "colab": {
          "base_uri": "https://localhost:8080/"
        },
        "id": "0NHN_6PusJDX",
        "outputId": "96804edb-f351-4ad2-ec57-1f6b1b593c99"
      },
      "source": [
        "y_pred = model.predict(X_test)\n",
        "y_pred[:5]"
      ],
      "execution_count": 45,
      "outputs": [
        {
          "output_type": "execute_result",
          "data": {
            "text/plain": [
              "array([[0.03245747],\n",
              "       [0.56917584],\n",
              "       [0.13928504],\n",
              "       [0.14574213],\n",
              "       [0.3682047 ]], dtype=float32)"
            ]
          },
          "metadata": {},
          "execution_count": 45
        }
      ]
    },
    {
      "cell_type": "code",
      "metadata": {
        "colab": {
          "base_uri": "https://localhost:8080/"
        },
        "id": "RaVB_ShTOGiz",
        "outputId": "05263032-8fd8-4bfa-a2e6-3c6722e2ea04"
      },
      "source": [
        "y_test[:5]"
      ],
      "execution_count": 46,
      "outputs": [
        {
          "output_type": "execute_result",
          "data": {
            "text/plain": [
              "2287    1\n",
              "2087    1\n",
              "2308    0\n",
              "1960    0\n",
              "4634    0\n",
              "Name: Churn, dtype: int64"
            ]
          },
          "metadata": {},
          "execution_count": 46
        }
      ]
    },
    {
      "cell_type": "code",
      "metadata": {
        "id": "AcymJJNcOYQp"
      },
      "source": [
        "y_pred1 = []\n",
        "for i in y_pred:\n",
        "  if i > 0.5:\n",
        "    y_pred1.append(1)\n",
        "  else:\n",
        "    y_pred1.append(0)"
      ],
      "execution_count": 48,
      "outputs": []
    },
    {
      "cell_type": "code",
      "metadata": {
        "colab": {
          "base_uri": "https://localhost:8080/"
        },
        "id": "M0trNxTTOqtk",
        "outputId": "a389a7c3-ce86-4882-d8b9-78bf056ba6c5"
      },
      "source": [
        "y_pred1[:5]"
      ],
      "execution_count": 50,
      "outputs": [
        {
          "output_type": "execute_result",
          "data": {
            "text/plain": [
              "[0, 1, 0, 0, 0]"
            ]
          },
          "metadata": {},
          "execution_count": 50
        }
      ]
    },
    {
      "cell_type": "code",
      "metadata": {
        "colab": {
          "base_uri": "https://localhost:8080/"
        },
        "id": "2iqS91aeOyLH",
        "outputId": "a63fc14a-0542-449c-b38d-8b62698570f0"
      },
      "source": [
        "y_test[:5]"
      ],
      "execution_count": 52,
      "outputs": [
        {
          "output_type": "execute_result",
          "data": {
            "text/plain": [
              "2287    1\n",
              "2087    1\n",
              "2308    0\n",
              "1960    0\n",
              "4634    0\n",
              "Name: Churn, dtype: int64"
            ]
          },
          "metadata": {},
          "execution_count": 52
        }
      ]
    },
    {
      "cell_type": "code",
      "metadata": {
        "colab": {
          "base_uri": "https://localhost:8080/"
        },
        "id": "624TVQTyO200",
        "outputId": "a87dd71b-ae54-4018-e4c9-309c741fe334"
      },
      "source": [
        "from sklearn.metrics import confusion_matrix,classification_report\n",
        "print(classification_report(y_test,y_pred1))"
      ],
      "execution_count": 53,
      "outputs": [
        {
          "output_type": "stream",
          "name": "stdout",
          "text": [
            "              precision    recall  f1-score   support\n",
            "\n",
            "           0       0.82      0.88      0.85      1021\n",
            "           1       0.60      0.48      0.54       386\n",
            "\n",
            "    accuracy                           0.77      1407\n",
            "   macro avg       0.71      0.68      0.69      1407\n",
            "weighted avg       0.76      0.77      0.76      1407\n",
            "\n"
          ]
        }
      ]
    },
    {
      "cell_type": "code",
      "metadata": {
        "colab": {
          "base_uri": "https://localhost:8080/",
          "height": 296
        },
        "id": "_yClwWgDPA7h",
        "outputId": "eebdef68-0dec-4dcf-ad4c-3183e0a843af"
      },
      "source": [
        "import seaborn as sns\n",
        "cm = confusion_matrix(y_test,y_pred1)\n",
        "sns.heatmap(cm, annot = True, fmt = 'd')\n",
        "plt.xlabel('Predicted')\n",
        "plt.ylabel('Actual')"
      ],
      "execution_count": 58,
      "outputs": [
        {
          "output_type": "execute_result",
          "data": {
            "text/plain": [
              "Text(33.0, 0.5, 'Actual')"
            ]
          },
          "metadata": {},
          "execution_count": 58
        },
        {
          "output_type": "display_data",
          "data": {
            "image/png": "[encoded data removed]",
            "text/plain": [
              "<Figure size 432x288 with 2 Axes>"
            ]
          },
          "metadata": {
            "needs_background": "light"
          }
        }
      ]
    },
    {
      "cell_type": "code",
      "metadata": {
        "id": "kK6MdsmJP82M"
      },
      "source": [
        ""
      ],
      "execution_count": null,
      "outputs": []
    }
  ]
}